{
  "nbformat": 4,
  "nbformat_minor": 0,
  "metadata": {
    "colab": {
      "name": "G04_Henry_Dario_Moreno_ej_3B.ipynb",
      "provenance": [],
      "collapsed_sections": [
        "n1Qi839m-RYh"
      ]
    },
    "kernelspec": {
      "name": "python3",
      "display_name": "Python 3"
    },
    "language_info": {
      "name": "python"
    }
  },
  "cells": [
    {
      "cell_type": "markdown",
      "metadata": {
        "id": "9DQrFyU_NXFO"
      },
      "source": [
        "# Encontrar al menos una de las raices de la funcion\n",
        "\n",
        "\n",
        "![image.png](data:image/png;base64,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)"
      ]
    },
    {
      "cell_type": "code",
      "metadata": {
        "colab": {
          "base_uri": "https://localhost:8080/"
        },
        "id": "EiRa40e-Vcvt",
        "outputId": "a443e938-2660-4e75-fec6-f738dfdcd19c"
      },
      "source": [
        "# primera aproximacion:\n",
        "from math import log\n",
        "\n",
        "\n",
        "\n",
        "def F(x_):\n",
        "  y = ((x_-2)**2) - log(x_)\n",
        "  return y \n",
        "\n",
        "def error(x_init_, x_final_):\n",
        "  error_ = (abs(x_final_ - x_init_)/ x_fin) * 100\n",
        "  return error_\n",
        "\n",
        "\n",
        "global error_esperado\n",
        "error_esperado = 0.000001\n",
        "global error_\n",
        "error_ = error_esperado + 1\n",
        "\n",
        "\n",
        "def biseccion(minimo, maximo):\n",
        "  global error_esperado\n",
        "  error_esperado = 0.000001\n",
        "  global error\n",
        "  error_ = error_esperado + 1\n",
        "  while error_>error_esperado:\n",
        "    delta = maximo - minimo\n",
        "    aumento_ = delta/2\n",
        "    #print(f'aumento: {aumento_} ')\n",
        "    medio_ = minimo+aumento_ \n",
        "    y_medio_ = F(medio_)\n",
        "    error_ = error(minimo, maximo)\n",
        "    \n",
        "    if y_medio_ > 0 :\n",
        "      maximo  = medio_\n",
        "    else:\n",
        "      minimo = medio_\n",
        "  print(f'medio: {medio_} , error : {error_}')\n",
        "  return medio_, error_\n",
        "\n",
        "less_zero = -1 * 1 \n",
        "\n",
        "\n",
        "for x in range(0, 4):             # 4 acts as inclusive in this code (modified) :::\n",
        "  #while error_>error_esperado:\n",
        "  error_esperado = 0.000001\n",
        "\n",
        "  error_ = error_esperado + 1\n",
        "  x_init = x\n",
        "  x_fin = x +1\n",
        "  y = F(x_fin)\n",
        "  print(f'x: {x_fin}, y: {y}')\n",
        "  if y>=0:\n",
        "    medio__ , error_ = biseccion(x_init, x_fin)\n",
        "\n"
      ],
      "execution_count": 78,
      "outputs": [
        {
          "output_type": "stream",
          "text": [
            "x: 1, y: 1.0\n",
            "medio: 3.725290298461914e-09 , error : 7.450580596923828e-07\n",
            "x: 2, y: -0.6931471805599453\n",
            "x: 3, y: -0.09861228866810978\n",
            "x: 4, y: 2.613705638880109\n",
            "medio: 3.0571035593748093 , error : 7.450580596923828e-07\n"
          ],
          "name": "stdout"
        }
      ]
    },
    {
      "cell_type": "markdown",
      "metadata": {
        "id": "n1Qi839m-RYh"
      },
      "source": [
        "____________________________________\n",
        "# -- Seccion de Pruebas --"
      ]
    },
    {
      "cell_type": "code",
      "metadata": {
        "colab": {
          "base_uri": "https://localhost:8080/"
        },
        "id": "7u7ZXZ1nnMxn",
        "outputId": "58e6f927-9ed8-426a-b475-baa5268218e1"
      },
      "source": [
        "from math import log\n",
        "\n",
        "\n",
        "\n",
        "error_esperado = 0.000001\n",
        "error = error_esperado + 1\n",
        "\n",
        "\n",
        "x_init = 1\n",
        "y_init= F(x_init)\n",
        "aumento = 1\n",
        "\n",
        "x = 1\n",
        "raiz  = 1\n",
        "#while error > error_esperado:\n",
        "while x < 5:\n",
        "  x +=1\n",
        "  raiz += aumento\n",
        "  x_final = x_init + aumento\n",
        "  y_final = F(x_final)\n",
        "  #error_xn = \n",
        "  less_than_0 = y_init * y_final\n",
        "  if less_than_0 < 0:\n",
        "    y_init = y_final\n",
        "    #continue\n",
        "  \"\"\"elif less_than_0 > 0 : \n",
        "    aumento = abs(x_final - x_init) /2\"\"\"\n",
        "    \n",
        "  x_init += aumento\n",
        "  print(f'x: {raiz:12} : {y_init} , mult = {less_than_0}')\n"
      ],
      "execution_count": null,
      "outputs": [
        {
          "output_type": "stream",
          "text": [
            "x:            2 : -0.6931471805599453 , mult = -0.6931471805599453\n",
            "x:            3 : -0.6931471805599453 , mult = 0.06835282985886373\n",
            "x:            4 : 2.613705638880109 , mult = -1.8116826944033781\n",
            "x:            5 : 2.613705638880109 , mult = 19.31675380276454\n"
          ],
          "name": "stdout"
        }
      ]
    },
    {
      "cell_type": "code",
      "metadata": {
        "id": "t7uSDGhVDW33",
        "colab": {
          "base_uri": "https://localhost:8080/",
          "height": 134
        },
        "outputId": "6e793f0d-9530-4464-8c2d-f57b51e406d0"
      },
      "source": [
        "\n",
        "#pr_ = log(30), print(pr_)\n",
        "\n",
        "# method = dynamic programming | metodo: programacion dinamica\n",
        "\n",
        "\n",
        "  # pivot value to determine if till function not equal to zero\n",
        "x_init = 0\n",
        "x_final = 0\n",
        "\n",
        "\n",
        "try:\n",
        "  while less_than_zero<0: # stop once value is equal or greater than 0 ...\n",
        "  value_y = F(x)\n",
        "\n",
        "except :\n",
        "  print('error: no continua o ¿algun otro error?')\n",
        "\n",
        "\n",
        "\n"
      ],
      "execution_count": null,
      "outputs": [
        {
          "output_type": "error",
          "ename": "IndentationError",
          "evalue": "ignored",
          "traceback": [
            "\u001b[0;36m  File \u001b[0;32m\"<ipython-input-19-db1ce51750a6>\"\u001b[0;36m, line \u001b[0;32m14\u001b[0m\n\u001b[0;31m    value_y = F(x)\u001b[0m\n\u001b[0m          ^\u001b[0m\n\u001b[0;31mIndentationError\u001b[0m\u001b[0;31m:\u001b[0m expected an indented block\n"
          ]
        }
      ]
    }
  ]
}