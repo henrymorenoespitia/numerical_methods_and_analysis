{
  "nbformat": 4,
  "nbformat_minor": 0,
  "metadata": {
    "colab": {
      "name": "G04_HenryMoreno_Ej1B.ipynb",
      "provenance": [],
      "collapsed_sections": []
    },
    "kernelspec": {
      "display_name": "Python 3",
      "name": "python3"
    },
    "language_info": {
      "name": "python"
    }
  },
  "cells": [
    {
      "cell_type": "markdown",
      "metadata": {
        "id": "8qb2go5A1ClK"
      },
      "source": [
        "# Numeric Derivation\n",
        "\n",
        "In the [video](https://youtu.be/9JifDELvywk) below you can see an explain in spanish of the exercise show in this notebook:\n",
        "\n",
        "\n",
        "Explicacion del erjercicio:\n",
        "\n",
        "## https://youtu.be/9JifDELvywk\n",
        "\n",
        "\n"
      ]
    },
    {
      "cell_type": "markdown",
      "metadata": {
        "id": "2RxCrXaKTYf1"
      },
      "source": [
        "# Step 1"
      ]
    },
    {
      "cell_type": "code",
      "metadata": {
        "id": "pVQ-wZEA0gft"
      },
      "source": [
        "import numpy as np\n",
        "\n",
        "\n",
        "def f(x):\n",
        "  return np.cos(x)\n",
        "  "
      ],
      "execution_count": null,
      "outputs": []
    },
    {
      "cell_type": "markdown",
      "metadata": {
        "id": "RKfr5in1TplF"
      },
      "source": [
        "# Step 2\n",
        "\n",
        "Defining schemas of derivates"
      ]
    },
    {
      "cell_type": "markdown",
      "metadata": {
        "id": "NzEbAOMZT5Uu"
      },
      "source": [
        "### Schema for first and second derivates\n",
        "\n",
        "To improve: \n",
        "- implement BigDecimal class to enhance accuracy with decimal type operations"
      ]
    },
    {
      "cell_type": "code",
      "metadata": {
        "id": "NzT25tL2To62"
      },
      "source": [
        "def FordwardFirstDerivate(x0, h):\n",
        "  return ( (f(x0 + h)-f(x0)) / h )\n",
        "\n",
        "\n",
        "def CentralFirstDerivate(x0, h):\n",
        "  return (f(x0+h)-f(x0-h)) / (2*h)\n",
        "\n",
        "\n",
        "def BackwardFirstDerivate(x0, h):\n",
        "  return (f(x0)- f(x0-h)) / h\n",
        "\n",
        "\n",
        "############\n",
        "\n",
        "\n",
        "def FordwardSecondDerivate(x0, h):\n",
        "  return (f(x0) -2 * f(x0 +h) + f(x0 +2 *h)) / h **2\n",
        "\n",
        "\n",
        "def CentralSecondDerivate(x0, h):\n",
        "  return (f(x0 -h) -2 * f(x0) + f(x0 +h)) / h **2\n",
        "\n",
        "\n",
        "def BackwardSecondDerivate(x0, h):\n",
        "  return (f(x0 -2 *h) -2 * f(x0 -h) + f(x0)) / h **2\n"
      ],
      "execution_count": null,
      "outputs": []
    },
    {
      "cell_type": "markdown",
      "metadata": {
        "id": "nmIkzajkW9TB"
      },
      "source": [
        "# Improve:\n",
        "### Dictionary with 3 methods define before.\n",
        "This dictionary will be iterate through to invoke each first derivate method defined before."
      ]
    },
    {
      "cell_type": "code",
      "metadata": {
        "id": "dmAYZX5LUt7-"
      },
      "source": [
        "fisrtDerivateMethods = {\n",
        "    \"forward first derivate\": FordwardFirstDerivate,\n",
        "    \"central first derivate\" : CentralFirstDerivate,\n",
        "    \"backward first derivate\" : BackwardFirstDerivate\n",
        "}\n",
        "\n",
        "\n",
        "secondDerivateMethods = {\n",
        "    \"forward Second derivate\": FordwardSecondDerivate,\n",
        "    \"central Second derivate\" : CentralSecondDerivate,\n",
        "    \"backward Second derivate\" : BackwardSecondDerivate\n",
        "}"
      ],
      "execution_count": null,
      "outputs": []
    },
    {
      "cell_type": "markdown",
      "metadata": {
        "id": "wWS-Ob9gYj6m"
      },
      "source": [
        "# Step 3\n",
        "Define values"
      ]
    },
    {
      "cell_type": "code",
      "metadata": {
        "colab": {
          "base_uri": "https://localhost:8080/"
        },
        "id": "P7fToNJFYv8G",
        "outputId": "ca6a1cf1-1b92-4abf-a24d-72677ed4668b"
      },
      "source": [
        "x = (27.5 * np.pi) / 180    # converting grades to radians\n",
        "h = 0.5\n",
        "print(\"The value in radians is:\", x)"
      ],
      "execution_count": null,
      "outputs": [
        {
          "output_type": "stream",
          "text": [
            "The value in radians is: 0.4799655442984406\n"
          ],
          "name": "stdout"
        }
      ]
    },
    {
      "cell_type": "markdown",
      "metadata": {
        "id": "bkCn_Q2TZPdf"
      },
      "source": [
        "# Step 4\n",
        "### Invoke dictionary methods to evaluate the schemas."
      ]
    },
    {
      "cell_type": "code",
      "metadata": {
        "colab": {
          "background_save": true,
          "base_uri": "https://localhost:8080/"
        },
        "id": "uibeMBg2ZZ5o",
        "outputId": "2264897f-2740-4647-9338-37897ecab832"
      },
      "source": [
        "\n",
        "\n",
        "def printValuesDerivativeMethods(orderDerivativeMethods):\n",
        "  for schema, value in orderDerivativeMethods.items():\n",
        "      print(f\"\"\"  Schema: {schema}\n",
        "      Value:  {value(x, h)}\n",
        "      \"\"\")\n",
        "\n",
        "\n",
        "print(\"First Derivate Methods values : \")\n",
        "print()\n",
        "printValuesDerivativeMethods(fisrtDerivateMethods)\n",
        "print()\n",
        "print()\n",
        "print(\"Second Derivate Methods values : \")\n",
        "print()\n",
        "printValuesDerivativeMethods(secondDerivateMethods)\n",
        "\n"
      ],
      "execution_count": null,
      "outputs": [
        {
          "output_type": "stream",
          "text": [
            "First Derivate Methods values : \n",
            "\n",
            "  Schema: forward first derivate\n",
            "      Value:  -0.6599193427462278\n",
            "      \n",
            "  Schema: central first derivate\n",
            "      Value:  -0.44274815519989996\n",
            "      \n",
            "  Schema: backward first derivate\n",
            "      Value:  -0.22557696765357216\n",
            "      \n",
            "\n",
            "\n",
            "Second Derivate Methods values : \n",
            "\n",
            "  Schema: forward Second derivate\n",
            "      Value:  -0.5455422089933815\n",
            "      \n",
            "  Schema: central Second derivate\n",
            "      Value:  -0.8686847501853112\n",
            "      \n",
            "  Schema: backward Second derivate\n",
            "      Value:  -0.979142968092066\n",
            "      \n"
          ],
          "name": "stdout"
        }
      ]
    },
    {
      "cell_type": "markdown",
      "metadata": {
        "id": "lYz5wGFrbMR1"
      },
      "source": [
        "# Step 4.1\n",
        "Chart to each first derivates schema."
      ]
    },
    {
      "cell_type": "markdown",
      "metadata": {
        "id": "kCqmPPscbyBI"
      },
      "source": [
        "a. Declare and set real derivate:"
      ]
    },
    {
      "cell_type": "code",
      "metadata": {
        "id": "-iuqRqi4bvzP"
      },
      "source": [
        "\n",
        "realDerivates ={\n",
        "    \"First\" : -(np.sin(x)) ,\n",
        "    \"Second\" : -(np.cos(x))\n",
        "}\n"
      ],
      "execution_count": null,
      "outputs": []
    },
    {
      "cell_type": "markdown",
      "metadata": {
        "id": "Rr1HTCaWchdp"
      },
      "source": [
        "b. Porcentual relative error:"
      ]
    },
    {
      "cell_type": "code",
      "metadata": {
        "id": "Q3qZckjtcqSq"
      },
      "source": [
        "\n",
        "def porcentuaRelError(schema, RealDerivate, x, h):\n",
        "    return (abs(RealDerivate - schema(x,h))/RealDerivate) * 100\n",
        "    "
      ],
      "execution_count": null,
      "outputs": []
    },
    {
      "cell_type": "markdown",
      "metadata": {
        "id": "1zUwSSUPoHHH"
      },
      "source": [
        "c. Define tabulate function"
      ]
    },
    {
      "cell_type": "code",
      "metadata": {
        "id": "HmA9u9OHdRtY"
      },
      "source": [
        "from tabulate import tabulate\n",
        "\n",
        "\n",
        "def printTabulateSchema(orderDerivativeMethod, nRealDerivate ):\n",
        "  for schema, schemaObject in orderDerivativeMethod.items():\n",
        "      finitesDerivates = [  ['0,5', schemaObject(x, 0.5), porcentuaRelError(schemaObject, nRealDerivate, x, 0.5)],\n",
        "                            ['0,05', schemaObject(x, 0.05), porcentuaRelError(schemaObject, nRealDerivate, x, 0.05)],\n",
        "                            ['0,5', schemaObject(x, 0.01), porcentuaRelError(schemaObject, nRealDerivate, x, 0.01)]\n",
        "                          ]\n",
        "      print(tabulate(finitesDerivates, headers=[\"Size h\", \"Round derivate\", \"Error (%)\"], tablefmt=\"francy_grid\"), end=\"\"\" \n",
        "      \n",
        "      \"\"\")\n"
      ],
      "execution_count": null,
      "outputs": []
    },
    {
      "cell_type": "markdown",
      "metadata": {
        "id": "w3vqRokboDjB"
      },
      "source": [
        "# Step 5\n"
      ]
    },
    {
      "cell_type": "markdown",
      "metadata": {
        "id": "N2ieKf7JogUd"
      },
      "source": [
        "### Tabulate first's order derivate methods chart."
      ]
    },
    {
      "cell_type": "code",
      "metadata": {
        "colab": {
          "base_uri": "https://localhost:8080/"
        },
        "id": "cQp-Wp8LoZRd",
        "outputId": "fda6451c-f157-4dd2-e951-3787acdcafd3"
      },
      "source": [
        "\n",
        "printTabulateSchema(fisrtDerivateMethods, realDerivates[\"First\"] )\n"
      ],
      "execution_count": null,
      "outputs": [
        {
          "output_type": "stream",
          "text": [
            "Size h      Round derivate    Error (%)\n",
            "--------  ----------------  -----------\n",
            "0,5              -0.659919   -42.9174\n",
            "0,05             -0.483727    -4.75979\n",
            "0,5              -0.466176    -0.958816 \n",
            "      \n",
            "      Size h      Round derivate    Error (%)\n",
            "--------  ----------------  -----------\n",
            "0,5              -0.442748  -4.11489\n",
            "0,05             -0.461556  -0.0416615\n",
            "0,5              -0.461741  -0.00166666 \n",
            "      \n",
            "      Size h      Round derivate    Error (%)\n",
            "--------  ----------------  -----------\n",
            "0,5              -0.225577    -51.1472\n",
            "0,05             -0.439386     -4.84312\n",
            "0,5              -0.457306     -0.96215 \n",
            "      \n",
            "      "
          ],
          "name": "stdout"
        }
      ]
    },
    {
      "cell_type": "markdown",
      "metadata": {
        "id": "eTJ6-qLjomFV"
      },
      "source": [
        "### Tabulate seconds's order derivate methods chart."
      ]
    },
    {
      "cell_type": "code",
      "metadata": {
        "colab": {
          "base_uri": "https://localhost:8080/"
        },
        "id": "xDUx-VoJpAMN",
        "outputId": "c37365eb-80cd-48e5-ed4f-a6e27187ce9c"
      },
      "source": [
        "\n",
        "printTabulateSchema(secondDerivateMethods, realDerivates[\"Second\"] )\n"
      ],
      "execution_count": null,
      "outputs": [
        {
          "output_type": "stream",
          "text": [
            "Size h      Round derivate    Error (%)\n",
            "--------  ----------------  -----------\n",
            "0,5              -0.545542   -38.4966\n",
            "0,05             -0.862645    -2.74699\n",
            "0,5              -0.882342    -0.526387 \n",
            "      \n",
            "      Size h      Round derivate     Error (%)\n",
            "--------  ----------------  ------------\n",
            "0,5              -0.868685  -2.06605\n",
            "0,05             -0.886826  -0.0208316\n",
            "0,5              -0.887003  -0.000833331 \n",
            "      \n",
            "      Size h      Round derivate    Error (%)\n",
            "--------  ----------------  -----------\n",
            "0,5              -0.979143   -10.3868\n",
            "0,05             -0.908791    -2.45543\n",
            "0,5              -0.891576    -0.514721 \n",
            "      \n",
            "      "
          ],
          "name": "stdout"
        }
      ]
    },
    {
      "cell_type": "markdown",
      "metadata": {
        "id": "Pt_GIlMP10A-"
      },
      "source": [
        "# Result Analysis\n",
        "# Conclusiones: analisis de resultados"
      ]
    },
    {
      "cell_type": "markdown",
      "metadata": {
        "id": "tNSFgYHr15NA"
      },
      "source": [
        "### Se observa que la mejor aproximacion es la correspondiente al esquema central en cada una de las derivadas de primer y segundo orden, esto debido a que el error disminuye drasticamentey se obtiene el menor error respecto a los demas enfoques."
      ]
    }
  ]
}