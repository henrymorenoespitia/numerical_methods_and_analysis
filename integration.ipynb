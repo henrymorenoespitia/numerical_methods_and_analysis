{
  "nbformat": 4,
  "nbformat_minor": 0,
  "metadata": {
    "colab": {
      "name": "G04_HenryMoreno_Ejercicio-2B.ipynb",
      "provenance": [],
      "collapsed_sections": []
    },
    "kernelspec": {
      "name": "python3",
      "display_name": "Python 3"
    },
    "language_info": {
      "name": "python"
    }
  },
  "cells": [
    {
      "cell_type": "markdown",
      "metadata": {
        "id": "QxmiMpt-_D31"
      },
      "source": [
        "# Step1.\n",
        "### Define the function wich integrate with."
      ]
    },
    {
      "cell_type": "code",
      "metadata": {
        "id": "HSnpJMvj-7cT"
      },
      "source": [
        "\n",
        "import numpy as np\n",
        "\n",
        "def f(x):\n",
        "  return np.log(3+x)\n"
      ],
      "execution_count": 2,
      "outputs": []
    },
    {
      "cell_type": "markdown",
      "metadata": {
        "id": "5x_4fMPIb5TL"
      },
      "source": [
        "#Step 2\n",
        "\n",
        "define functions for diferent methods"
      ]
    },
    {
      "cell_type": "code",
      "metadata": {
        "id": "J87oudT9b4iS"
      },
      "source": [
        "\n",
        "\n",
        "# Simple Trapezoid \n",
        "\n",
        "def simpleTrapezoid(a, b):\n",
        "    return (b-a) * (f(a) + f(b))\n",
        "\n",
        "def simpleTrapezoidError(realIntegrate, a, b):\n",
        "    return (abs(realIntegrate - simpleTrapezoid(a, b)) / realIntegrate ) * 100\n",
        "\n",
        "\n",
        "# compound trapezoid\n",
        "\n",
        "def compoundTrapezoid(a, b, x):\n",
        "  sum = 0\n",
        "  for i in range(1, n):\n",
        "    sum += 2 * f(x[i])\n",
        "  return (b-a) / (2*n) * (f(a) + sum + f(b))\n",
        "\n",
        "def compoundTrapezoidError(realIntegrate, a, b, x):\n",
        "    return (abs(realIntegrate - compoundTrapezoid(a, b, x)) / realIntegrate ) * 100\n",
        "\n",
        "\n",
        "# simple Simpson 1/3\n",
        "\n",
        "def simpleSimpson1_3(x):\n",
        "    return (x[2] - x[0]) / 6 * (f(x[0]) + 4 * f(x[1]) + f(x[2]))\n",
        "\n",
        "def simpleSimpson1_3Error(realIntegrate, x):\n",
        "    return (abs(realIntegrate - simpleSimpson1_3(x)) / realIntegrate)\n",
        "\n",
        "\n",
        "# compound Sompson 1/3\n",
        "\n",
        "def compoundSimpson1_3(a, b, x):\n",
        "  sum = 0\n",
        "  for i in range(1, n, 2):\n",
        "    sum += 4 * f(x[i])\n",
        "  sum_2 = 0\n",
        "  for i in range(2, n-1, 2):\n",
        "    sum_2 += 2 * f(x[i])\n",
        "  return (b-a)/(3*n) * (f(a) + sum + sum_2 + f(b))\n",
        "\n",
        "\n",
        "def compoundSimpson1_3Error(realIntegrate, a, b, x):\n",
        "    return (abs(realIntegrate - compoundSimpson1_3(a, b, x)) / realIntegrate)\n",
        "\n",
        "\n",
        "# simple Simpson 3/8\n",
        "\n",
        "def simpleSimpson1_8(x):\n",
        "  return (x[3] - x[0]) / 8* (f(x[0]) + 3 *f(x[1]) +3 * f(x[2]) + f(x[3]))\n",
        "\n",
        "def simpleSimpson1_8Error(realIntegrate, x):\n",
        "  return (abs(realIntegrate - simpleSimpson1_8(x)) / realIntegrate)\n",
        "\n",
        "\n",
        "# compound Simpson 3/8\n",
        "\n",
        "def compoundSimpsin3_8(a,b,x):\n",
        "  sum = 0\n",
        "  m = int(n/3)\n",
        "  for i in range(0, m):\n",
        "    sum += 3 * f(x[3*i+1]) + 3*f(x[3*i+2])\n",
        "  for i in range(0, m-1):\n",
        "    sum += 2 * f(x[3*i+3])\n",
        "  return (3/8)*((b-a)/n) * (f(a) + sum + f(b))\n",
        "\n",
        "def compoundSimpsin1_8Error(realIntegrate, a, b, x):\n",
        "  return (abs(realIntegrate - compoundSimpsin3_8(a, b, x)) / realIntegrate) * 100\n",
        "\n",
        "\n",
        "\n",
        "\n"
      ],
      "execution_count": 34,
      "outputs": []
    },
    {
      "cell_type": "markdown",
      "metadata": {
        "id": "ifMyFgCarjre"
      },
      "source": [
        "#Step 3\n",
        "### Define entry values"
      ]
    },
    {
      "cell_type": "code",
      "metadata": {
        "id": "ss2gceNNrfzz"
      },
      "source": [
        "# code proof\n",
        "\n",
        "a = 0.1\n",
        "b = 3.1\n",
        "realIntegrate = -5.82773\n",
        "\n"
      ],
      "execution_count": 15,
      "outputs": []
    },
    {
      "cell_type": "markdown",
      "metadata": {
        "id": "9gZIJP9utqjc"
      },
      "source": [
        "a. proof of simple rules"
      ]
    },
    {
      "cell_type": "code",
      "metadata": {
        "colab": {
          "base_uri": "https://localhost:8080/"
        },
        "id": "r_C98I6nt5tZ",
        "outputId": "87bec45c-b74b-48a6-edf8-6c8d64f5b729"
      },
      "source": [
        "\n",
        "# simple trapezoid\n",
        "print(f\"La integral aproximada por la regla de trapecio simple es: {simpleTrapezoid(a, b)} ; error (%): {simpleTrapezoidError(realIntegrate, a, b)} \")\n",
        "\n",
        "#simple Simpson 1/3\n",
        "n= 2 \n",
        "x = np.linspace(a, b, n+1)\n",
        "print(f\"La integral aproximada por la regla de Simpson 1/3 simle es: {simpleSimpson1_3(x)} : error (%): {simpleSimpson1_3Error(realIntegrate, x)} \")\n",
        "\n",
        "# simple Simpson 3/8\n",
        "n = 3\n",
        "x = np.linspace(a, b, n+1)\n",
        "print(f\"La integral aproximada por la regla de Simpson 3/8 simple es: {simpleSimpson1_8(x)} ; error (%): {simpleSimpson1_8Error(realIntegrate, x)}\")\n",
        "\n",
        "\n"
      ],
      "execution_count": 23,
      "outputs": [
        {
          "output_type": "stream",
          "text": [
            "La integral aproximada por la regla de trapecio simple es: 8.819072648011097 ; error (%): -251.32946529799932 \n",
            "La integral aproximada por la regla de Simpson 1/3 simle es: 4.521958048325281 : error (%): -1.7759381523037754 \n",
            "La integral aproximada por la regla de Simpson 3/8 simple es: 4.522640033621997 ; error (%): -1.7760551764790058\n"
          ],
          "name": "stdout"
        }
      ]
    },
    {
      "cell_type": "markdown",
      "metadata": {
        "id": "AT8ZSzFv8EkI"
      },
      "source": [
        "a. proof of compound rules"
      ]
    },
    {
      "cell_type": "code",
      "metadata": {
        "colab": {
          "base_uri": "https://localhost:8080/"
        },
        "id": "KHfwFWT6wBX0",
        "outputId": "64d3c8fe-7381-4119-96a5-f9e070e6a97e"
      },
      "source": [
        "\n",
        "# compound trapezoid\n",
        "n= 18 # number of segments\n",
        "x = np.linspace(a, b, n+1)\n",
        "print(f\"La integral aproximada por la regla de trapecio compuesto es: {compoundTrapezoid(a, b, x)} ; error (%): {compoundTrapezoidError(realIntegrate, a, b, x)} \")\n",
        "\n",
        "#compound Simpson 1/3\n",
        "n= 18 # even number\n",
        "x = np.linspace(a, b, n+1)\n",
        "print(f\"La integral aproximada por la regla de Simpson 1/3 compuesta es: {compoundSimpson1_3(a, b, x)} : error (%): {compoundSimpson1_3Error(realIntegrate, a, b, x)} \")\n",
        "\n",
        "# compound Simpson 3/8\n",
        "n = 18       # integer:: n%3 = 0\n",
        "x = np.linspace(a, b, n+1)\n",
        "print(f\"La integral aproximada por la regla de Simpson 3/8 compuesta es: {compoundSimpsin3_8(a,b,x)} ; error (%): {compoundSimpsin1_8Error(realIntegrate, a, b, x)}\")\n"
      ],
      "execution_count": 33,
      "outputs": [
        {
          "output_type": "stream",
          "text": [
            "La integral aproximada por la regla de trapecio compuesto es: 4.522847784399211 ; error (%): -177.6090825141043 \n",
            "La integral aproximada por la regla de Simpson 1/3 compuesta es: 4.523214709695509 : error (%): -1.776153787099867 \n",
            "La integral aproximada por la regla de Simpson 3/8 compuesta es: 4.523214401106994 ; error (%): -177.61537341481147\n"
          ],
          "name": "stdout"
        }
      ]
    },
    {
      "cell_type": "markdown",
      "metadata": {
        "id": "tW3Ci0VaEh2x"
      },
      "source": [
        "#Step 5: Gauss quadrature\n",
        " to 2 and 3 points\n",
        " "
      ]
    },
    {
      "cell_type": "code",
      "metadata": {
        "colab": {
          "base_uri": "https://localhost:8080/"
        },
        "id": "8_ILdIkoEhSZ",
        "outputId": "23d59679-7af8-44e3-da08-82d0b68e271f"
      },
      "source": [
        "\n",
        "# 2 points\n",
        "xd_0 = -0.577350269\n",
        "xd_1 = 0.577350269\n",
        "C0 = 1\n",
        "C1 = 1\n",
        "\n",
        "dx = ( b- a ) / 2\n",
        "x0 = ((b+a) + (b-a) * xd_0 )/ 2 \n",
        "x1 = ((b+a) + (b-a) * xd_1)/ 2 \n",
        "\n",
        "F0 = f(x0) * dx\n",
        "F1 = f(x1) * dx\n",
        "integralGaussQuadrature = C0 *F0 + C1 * F1\n",
        "integralGaussQuadratureError = (abs(realIntegrate - integralGaussQuadrature) / realIntegrate) * 100\n",
        "\n",
        "\n",
        "print(f\"la integral aproximada por el metodo de cuadratura de Gauss  con 2 puntos es: {integralGaussQuadrature} ; y el error (%): {integralGaussQuadratureError}\")\n",
        "\n",
        "\n",
        "# 3 points\n",
        "xd_0 = -0.774596669\n",
        "xd_1 = 0\n",
        "xd_2 = 0.774596669\n",
        "C0 = 0.55555555\n",
        "C1 = 0.88888888\n",
        "C2 = 0.55555555\n",
        "\n",
        "dx = ( b- a ) / 2\n",
        "x0 = ((b+a) + (b-a) * xd_0 )/ 2 \n",
        "x1 = ((b+a) + (b-a) * xd_1)/ 2 \n",
        "x2 = ((b+a) + (b-a) * xd_2)/ 2 \n",
        "\n",
        "F0 = f(x0) * dx\n",
        "F1 = f(x1) * dx\n",
        "F2 = f(x2) * dx\n",
        "integralGaussQuadrature_3 = C0 *F0 + C1 * F1 +  C2 * F2\n",
        "integralGaussQuadratureError_3 = (abs(realIntegrate - integralGaussQuadrature_3) / realIntegrate) * 100\n",
        "\n",
        "\n",
        "\n",
        "\n",
        "print(f\"la integral aproximada por el metodo de cuadratura de Gauss  con 3 puntos es: {integralGaussQuadrature_3} ; y el error (%): {integralGaussQuadratureError_3}\")\n",
        "\n"
      ],
      "execution_count": 38,
      "outputs": [
        {
          "output_type": "stream",
          "text": [
            "la integral aproximada por el metodo de cuadratura de Gauss  con 2 puntos es: 4.5240374652688375 ; y el error (%): -177.62949665253603\n",
            "la integral aproximada por el metodo de cuadratura de Gauss  con 3 puntos es: 4.52323074338855 ; y el error (%): -177.6156538375757\n"
          ],
          "name": "stdout"
        }
      ]
    }
  ]
}